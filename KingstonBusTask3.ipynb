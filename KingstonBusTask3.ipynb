{
 "cells": [
  {
   "cell_type": "code",
   "execution_count": 1,
   "metadata": {},
   "outputs": [],
   "source": [
    "import pandas as pd \n",
    "import matplotlib.pyplot as plt\n",
    "import geopandas as gpd\n",
    "import contextily as ctx"
   ]
  },
  {
   "cell_type": "code",
   "execution_count": 5,
   "metadata": {},
   "outputs": [
    {
     "name": "stdout",
     "output_type": "stream",
     "text": [
      "<class 'pandas.core.frame.DataFrame'>\n",
      "RangeIndex: 72778 entries, 0 to 72777\n",
      "Data columns (total 18 columns):\n",
      " #   Column                   Non-Null Count  Dtype \n",
      "---  ------                   --------------  ----- \n",
      " 0   ADDRESS_NUMBER           72778 non-null  int64 \n",
      " 1   STREET_BODY_NAME         72778 non-null  object\n",
      " 2   STREET_TYPE_SUFFIX       72248 non-null  object\n",
      " 3   DIRECTION_SUFFIX         1444 non-null   object\n",
      " 4   ADDRESS_NUMBER_SUFFIX    370 non-null    object\n",
      " 5   ﻿\"MUNICIPALITY\"          72778 non-null  object\n",
      " 6   UNIT_TYPE                72777 non-null  object\n",
      " 7   UNIT                     26798 non-null  object\n",
      " 8   STREET                   72778 non-null  object\n",
      " 9   FULL_ADDRESS             72778 non-null  object\n",
      " 10  GARBAGE_DAY              72775 non-null  object\n",
      " 11  ELECTORAL_DISTRICT_NAME  72777 non-null  object\n",
      " 12  NEIGHBOURHOOD            72777 non-null  object\n",
      " 13  RECYCLING_DAY            72773 non-null  object\n",
      " 14  POSTAL_CODE              70358 non-null  object\n",
      " 15  ADDRESS_ID               72778 non-null  int64 \n",
      " 16  GeoJSON                  72778 non-null  object\n",
      " 17  LongLat                  72778 non-null  object\n",
      "dtypes: int64(2), object(16)\n",
      "memory usage: 10.0+ MB\n",
      "total cars 140716\n"
     ]
    }
   ],
   "source": [
    "# Constants\n",
    "car_emission_per_km = 251  # grams of CO2 per km for a car\n",
    "bus_emission_per_km = 807  # grams of CO2 per km for a bus\n",
    "average_commute_km = 10  # one-way distance to downtown\n",
    "bus_capacity = 50  # passengers per bus\n",
    "occupancy_rate = 0.75  # 75% occupancy rate\n",
    "file_path = 'civic-addresses.csv'  # Adjust with your actual file path\n",
    "df = pd.read_csv(file_path)\n",
    "df.info()\n",
    "# Hypothetical data\n",
    "total_driveways = 70358  # 70358 postal codes in kingston\n",
    "car_per_driveway = 2\n",
    "\n",
    "totalcars = total_driveways * car_per_driveway\n",
    "print(\"total cars\",totalcars)\n"
   ]
  },
  {
   "cell_type": "markdown",
   "metadata": {},
   "source": [
    "Based on the Kingston populations heatmap(Task1) the Pittsburgh Comminuty and has 11,110 people and is the 4th most densly populated but has one of the lowest counts of bus stops in the entire city. It has only 37 bus stops all part the bridge on the east side. The city has 817 unique bus stops and only 37 in the 5th most populated area in the city."
   ]
  },
  {
   "cell_type": "code",
   "execution_count": 7,
   "metadata": {},
   "outputs": [
    {
     "name": "stdout",
     "output_type": "stream",
     "text": [
      "There are 817 unique bus stops in the CSV file.\n"
     ]
    }
   ],
   "source": [
    "import pandas as pd\n",
    "\n",
    "\n",
    "file_path = 'busstops.csv'  \n",
    "\n",
    "# Load the CSV file into a DataFrame\n",
    "bus_stops_df = pd.read_csv(file_path)\n",
    "\n",
    "# Count unique values in the 'ID' column to identify unique bus stops\n",
    "unique_bus_stops_count = bus_stops_df['ID'].nunique()\n",
    "\n",
    "print(f\"There are {unique_bus_stops_count} unique bus stops in the CSV file.\")\n"
   ]
  },
  {
   "cell_type": "code",
   "execution_count": 13,
   "metadata": {},
   "outputs": [
    {
     "name": "stdout",
     "output_type": "stream",
     "text": [
      "Matching rows have been written to matching_houses.csv\n",
      "<class 'pandas.core.frame.DataFrame'>\n",
      "RangeIndex: 17994 entries, 0 to 17993\n",
      "Data columns (total 22 columns):\n",
      " #   Column                          Non-Null Count  Dtype  \n",
      "---  ------                          --------------  -----  \n",
      " 0   ADDRESS_NUMBER                  17994 non-null  int64  \n",
      " 1   STREET_BODY_NAME                17994 non-null  object \n",
      " 2   STREET_TYPE_SUFFIX              17888 non-null  object \n",
      " 3   DIRECTION_SUFFIX                70 non-null     object \n",
      " 4   ADDRESS_NUMBER_SUFFIX           198 non-null    object \n",
      " 5   ﻿\"MUNICIPALITY\"                 17994 non-null  object \n",
      " 6   UNIT_TYPE                       17994 non-null  object \n",
      " 7   UNIT                            7083 non-null   object \n",
      " 8   STREET                          17994 non-null  object \n",
      " 9   FULL_ADDRESS                    17994 non-null  object \n",
      " 10  GARBAGE_DAY                     17993 non-null  object \n",
      " 11  ELECTORAL_DISTRICT_NAME         17994 non-null  object \n",
      " 12  NEIGHBOURHOOD                   17994 non-null  object \n",
      " 13  RECYCLING_DAY                   17994 non-null  object \n",
      " 14  POSTAL_CODE                     17994 non-null  object \n",
      " 15  ADDRESS_ID                      17994 non-null  int64  \n",
      " 16  GeoJSON                         17994 non-null  object \n",
      " 17  LongLat                         17994 non-null  object \n",
      " 18  latitude                        17994 non-null  float64\n",
      " 19  longitude                       17994 non-null  float64\n",
      " 20  nearest_bus_stop_index          17994 non-null  int64  \n",
      " 21  distance_to_nearest_bus_stop_m  17994 non-null  float64\n",
      "dtypes: float64(3), int64(3), object(16)\n",
      "memory usage: 3.0+ MB\n"
     ]
    }
   ],
   "source": [
    "import csv\n",
    "\n",
    "input_csv_file_path = 'houses_with_nearest_bus_stops.csv'\n",
    "output_csv_file_path = 'matching_houses.csv'\n",
    "\n",
    "matching_rows = []\n",
    "\n",
    "# Read the input CSV and filter rows\n",
    "with open(input_csv_file_path, mode='r', encoding='utf-8') as csv_file:\n",
    "    reader = csv.DictReader(csv_file)  # Correct the typo here\n",
    "    for row in reader:\n",
    "        if row[\"POSTAL_CODE\"].strip().upper().startswith('K7K'):\n",
    "            matching_rows.append(row)\n",
    "\n",
    "# Write the matching rows to a new CSV file\n",
    "with open(output_csv_file_path, mode='w', encoding='utf-8', newline='') as new_csv_file:\n",
    "    if matching_rows:\n",
    "        fieldnames = matching_rows[0].keys()  # Extract field names from the first row\n",
    "        writer = csv.DictWriter(new_csv_file, fieldnames=fieldnames)\n",
    "        writer.writeheader()  # Write the header row\n",
    "        for matching_row in matching_rows:\n",
    "            writer.writerow(matching_row)  # Write each matching row\n",
    "\n",
    "print(f\"Matching rows have been written to {output_csv_file_path}\")\n",
    "df = pd.read_csv(output_csv_file_path)\n",
    "df.info()\n",
    "\n"
   ]
  },
  {
   "cell_type": "code",
   "execution_count": 23,
   "metadata": {},
   "outputs": [
    {
     "name": "stdout",
     "output_type": "stream",
     "text": [
      "Pisstsburgh Community Coordinates:\n",
      "Minimum Latitude:  -76.4299826, Maximum Latitude:  -76.6008673\n",
      "Minimum Longitude: 44.2235486, Maximum Longitude: 44.2807651\n"
     ]
    }
   ],
   "source": [
    "import pandas as pd\n",
    "\n",
    "# Replace with your actual CSV file path\n",
    "input_csv_file_path = 'matching_houses.csv'\n",
    "\n",
    "# Read the CSV file into a DataFrame\n",
    "df = pd.read_csv(input_csv_file_path)\n",
    "\n",
    "df[['Longitude', 'Latitude']] = df['LongLat'].str.split(',', expand=True)\n",
    "\n",
    "# Calculate the geographical bounds\n",
    "min_latitude = df['Latitude'].min()\n",
    "max_latitude = df['Latitude'].max()\n",
    "min_longitude = df['Longitude'].min()\n",
    "max_longitude = df['Longitude'].max()\n",
    "\n",
    "# Print the bounds\n",
    "print(f\"Pisstsburgh Community Coordinates:\")\n",
    "print(f\"Minimum Latitude: {min_latitude}, Maximum Latitude: {max_latitude}\")\n",
    "print(f\"Minimum Longitude: {min_longitude}, Maximum Longitude: {max_longitude}\")\n",
    "\n",
    "\n",
    "\n",
    "\n"
   ]
  }
 ],
 "metadata": {
  "kernelspec": {
   "display_name": "Python 3.11.0 64-bit",
   "language": "python",
   "name": "python3"
  },
  "language_info": {
   "codemirror_mode": {
    "name": "ipython",
    "version": 3
   },
   "file_extension": ".py",
   "mimetype": "text/x-python",
   "name": "python",
   "nbconvert_exporter": "python",
   "pygments_lexer": "ipython3",
   "version": "3.11.0"
  },
  "orig_nbformat": 4,
  "vscode": {
   "interpreter": {
    "hash": "aee8b7b246df8f9039afb4144a1f6fd8d2ca17a180786b69acc140d282b71a49"
   }
  }
 },
 "nbformat": 4,
 "nbformat_minor": 2
}
