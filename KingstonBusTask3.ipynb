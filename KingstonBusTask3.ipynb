{
 "cells": [
  {
   "cell_type": "code",
   "execution_count": 1,
   "metadata": {},
   "outputs": [],
   "source": [
    "import pandas as pd \n",
    "import matplotlib.pyplot as plt\n",
    "import geopandas as gpd\n",
    "import contextily as ctx"
   ]
  },
  {
   "cell_type": "code",
   "execution_count": 2,
   "metadata": {},
   "outputs": [
    {
     "name": "stdout",
     "output_type": "stream",
     "text": [
      "<class 'pandas.core.frame.DataFrame'>\n",
      "RangeIndex: 72778 entries, 0 to 72777\n",
      "Data columns (total 18 columns):\n",
      " #   Column                   Non-Null Count  Dtype \n",
      "---  ------                   --------------  ----- \n",
      " 0   ADDRESS_NUMBER           72778 non-null  int64 \n",
      " 1   STREET_BODY_NAME         72778 non-null  object\n",
      " 2   STREET_TYPE_SUFFIX       72248 non-null  object\n",
      " 3   DIRECTION_SUFFIX         1444 non-null   object\n",
      " 4   ADDRESS_NUMBER_SUFFIX    370 non-null    object\n",
      " 5   ﻿\"MUNICIPALITY\"          72778 non-null  object\n",
      " 6   UNIT_TYPE                72777 non-null  object\n",
      " 7   UNIT                     26798 non-null  object\n",
      " 8   STREET                   72778 non-null  object\n",
      " 9   FULL_ADDRESS             72778 non-null  object\n",
      " 10  GARBAGE_DAY              72775 non-null  object\n",
      " 11  ELECTORAL_DISTRICT_NAME  72777 non-null  object\n",
      " 12  NEIGHBOURHOOD            72777 non-null  object\n",
      " 13  RECYCLING_DAY            72773 non-null  object\n",
      " 14  POSTAL_CODE              70358 non-null  object\n",
      " 15  ADDRESS_ID               72778 non-null  int64 \n",
      " 16  GeoJSON                  72778 non-null  object\n",
      " 17  LongLat                  72778 non-null  object\n",
      "dtypes: int64(2), object(16)\n",
      "memory usage: 10.0+ MB\n"
     ]
    }
   ],
   "source": [
    "# Constants\n",
    "car_emission_per_km = 251  # grams of CO2 per km for a car\n",
    "bus_emission_per_km = 807  # grams of CO2 per km for a bus\n",
    "average_commute_km = 10  # one-way distance to downtown\n",
    "bus_capacity = 50  # passengers per bus\n",
    "occupancy_rate = 0.75  # 75% occupancy rate\n",
    "file_path = 'civic-addresses.csv'  # Adjust with your actual file path\n",
    "df = pd.read_csv(file_path)\n",
    "df.info()\n",
    "# Hypothetical data\n",
    "total_driveways = 70358  # 70358 postal codes in kingston\n",
    "car_per_driveway = 2\n",
    "\n",
    "totalcars = total_driveways * car_per_driveway"
   ]
  }
 ],
 "metadata": {
  "kernelspec": {
   "display_name": "Python 3.11.0 64-bit",
   "language": "python",
   "name": "python3"
  },
  "language_info": {
   "codemirror_mode": {
    "name": "ipython",
    "version": 3
   },
   "file_extension": ".py",
   "mimetype": "text/x-python",
   "name": "python",
   "nbconvert_exporter": "python",
   "pygments_lexer": "ipython3",
   "version": "3.11.0"
  },
  "orig_nbformat": 4,
  "vscode": {
   "interpreter": {
    "hash": "aee8b7b246df8f9039afb4144a1f6fd8d2ca17a180786b69acc140d282b71a49"
   }
  }
 },
 "nbformat": 4,
 "nbformat_minor": 2
}
